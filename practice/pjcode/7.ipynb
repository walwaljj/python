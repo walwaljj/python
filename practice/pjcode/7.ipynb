{
 "cells": [
  {
   "cell_type": "code",
   "execution_count": 1,
   "metadata": {},
   "outputs": [],
   "source": [
    "from tkinter import *"
   ]
  },
  {
   "cell_type": "code",
   "execution_count": 2,
   "metadata": {},
   "outputs": [],
   "source": [
    "window = Tk()"
   ]
  },
  {
   "cell_type": "code",
   "execution_count": 3,
   "metadata": {},
   "outputs": [],
   "source": [
    "label = Label(window, text = '헬로 파이썬')\n",
    "label.pack()"
   ]
  },
  {
   "cell_type": "code",
   "execution_count": 4,
   "metadata": {},
   "outputs": [],
   "source": [
    "window.mainloop()"
   ]
  },
  {
   "cell_type": "code",
   "execution_count": 9,
   "metadata": {},
   "outputs": [],
   "source": [
    "from tkinter import *\n",
    "def change_label() :\n",
    "    if label.cget('text') == '헬로 파이썬' :\n",
    "        label.config(text = '안녕 파이썬')\n",
    "        label.config(bg = 'cyan')\n",
    "    else :\n",
    "        label.config(text = '헬로 파이썬')\n",
    "        label.config(bg = 'pink')\n",
    "\n",
    "window = Tk()\n",
    "label = Label(window , text = '헬로 파이썬', bg = 'red')\n",
    "label.pack()\n",
    "btn = Button(window, text = '클릭하면 문자가 변경됨', fg = 'blue', command=change_label)\n",
    "\n",
    "btn.pack()\n",
    "\n",
    "window.mainloop()"
   ]
  }
 ],
 "metadata": {
  "kernelspec": {
   "display_name": "Python 3.9.13 64-bit",
   "language": "python",
   "name": "python3"
  },
  "language_info": {
   "codemirror_mode": {
    "name": "ipython",
    "version": 3
   },
   "file_extension": ".py",
   "mimetype": "text/x-python",
   "name": "python",
   "nbconvert_exporter": "python",
   "pygments_lexer": "ipython3",
   "version": "3.9.13"
  },
  "orig_nbformat": 4,
  "vscode": {
   "interpreter": {
    "hash": "81794d4967e6c3204c66dcd87b604927b115b27c00565d3d43f05ba2f3a2cb0d"
   }
  }
 },
 "nbformat": 4,
 "nbformat_minor": 2
}
