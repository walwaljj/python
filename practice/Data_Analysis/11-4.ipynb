{
 "cells": [
  {
   "cell_type": "code",
   "execution_count": 1,
   "metadata": {},
   "outputs": [],
   "source": [
    "import csv\n",
    "f = open('./data/subwayfee.csv')\n",
    "data = csv.reader(f)"
   ]
  },
  {
   "cell_type": "code",
   "execution_count": 2,
   "metadata": {},
   "outputs": [],
   "source": [
    "next(data)\n",
    "mx = [0] *4\n",
    "mx_station = ['']*4"
   ]
  },
  {
   "cell_type": "code",
   "execution_count": 3,
   "metadata": {},
   "outputs": [],
   "source": [
    "for row in data :\n",
    "    for i in range(4,8) :\n",
    "        row[i] = int(row[i].replace(',',''))\n",
    "        if row[i] > mx[i-4] :\n",
    "            mx[i-4] = row[i]\n",
    "            mx_station[i-4] = row[3] + ' ' + row[1]"
   ]
  },
  {
   "cell_type": "code",
   "execution_count": 4,
   "metadata": {},
   "outputs": [
    {
     "name": "stdout",
     "output_type": "stream",
     "text": [
      "강남 2호선 2069056\n",
      "강남 2호선 2032203\n",
      "종로3가 1호선 300364\n",
      "제기동 1호선 285648\n"
     ]
    }
   ],
   "source": [
    "for i in range(4) : \n",
    "    print(mx_station[i],mx[i])"
   ]
  }
 ],
 "metadata": {
  "kernelspec": {
   "display_name": "Python 3.9.13 64-bit",
   "language": "python",
   "name": "python3"
  },
  "language_info": {
   "codemirror_mode": {
    "name": "ipython",
    "version": 3
   },
   "file_extension": ".py",
   "mimetype": "text/x-python",
   "name": "python",
   "nbconvert_exporter": "python",
   "pygments_lexer": "ipython3",
   "version": "3.9.13"
  },
  "orig_nbformat": 4,
  "vscode": {
   "interpreter": {
    "hash": "81794d4967e6c3204c66dcd87b604927b115b27c00565d3d43f05ba2f3a2cb0d"
   }
  }
 },
 "nbformat": 4,
 "nbformat_minor": 2
}
