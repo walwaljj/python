{
 "cells": [
  {
   "cell_type": "code",
   "execution_count": 30,
   "metadata": {},
   "outputs": [
    {
     "name": "stdout",
     "output_type": "stream",
     "text": [
      "['부산광역시 사상구 (2653000000)', '203,496', '203,496', '680', '728', '774', '824', '1,023', '1,100', '1,169', '1,327', '1,230', '1,319', '1,507', '1,383', '1,356', '1,286', '1,357', '1,398', '1,324', '1,274', '1,576', '1,656', '1,748', '2,126', '2,579', '2,566', '2,645', '2,758', '2,792', '2,881', '3,036', '2,984', '2,881', '2,695', '2,493', '2,332', '2,098', '2,175', '2,074', '2,141', '2,102', '2,387', '2,778', '2,842', '2,900', '2,767', '2,491', '2,489', '2,476', '2,709', '2,885', '3,078', '3,161', '3,269', '3,600', '3,774', '3,997', '3,790', '3,837', '3,969', '3,812', '3,905', '4,403', '4,936', '4,813', '4,321', '3,979', '3,867', '3,499', '3,684', '3,093', '2,580', '2,768', '2,267', '2,148', '2,140', '2,108', '1,901', '1,375', '1,252', '1,265', '1,284', '1,307', '1,065', '903', '794', '660', '618', '462', '407', '316', '253', '213', '113', '107', '89', '60', '44', '28', '22', '9', '9', '21']\n",
      "['부산광역시 사상구 삼락동(2653058000)', '5,596', '5,596', '12', '17', '14', '12', '23', '27', '13', '26', '23', '30', '28', '17', '22', '18', '32', '25', '26', '24', '32', '42', '34', '36', '59', '46', '54', '59', '59', '56', '71', '55', '67', '56', '55', '50', '47', '46', '53', '54', '45', '46', '63', '57', '69', '51', '44', '56', '59', '67', '65', '90', '87', '87', '100', '121', '133', '113', '139', '160', '105', '121', '138', '171', '172', '158', '118', '118', '112', '127', '96', '92', '106', '64', '70', '69', '97', '82', '57', '53', '56', '44', '49', '48', '37', '29', '29', '27', '15', '19', '7', '11', '8', '4', '4', '0', '4', '2', '1', '1', '1', '1', '1']\n",
      "['부산광역시 사상구 모라제1동(2653059100)', '27,414', '27,414', '92', '101', '104', '118', '140', '145', '135', '179', '168', '169', '190', '176', '197', '177', '185', '188', '184', '165', '225', '187', '211', '257', '267', '296', '304', '318', '367', '375', '398', '398', '382', '376', '366', '344', '297', '299', '257', '272', '304', '295', '374', '343', '379', '384', '330', '320', '338', '331', '388', '412', '407', '411', '454', '494', '534', '522', '505', '555', '522', '515', '662', '737', '682', '597', '551', '577', '491', '585', '434', '345', '421', '334', '277', '320', '316', '240', '168', '185', '170', '182', '185', '130', '134', '112', '97', '79', '49', '56', '45', '32', '23', '20', '17', '14', '7', '3', '3', '2', '2', '1', '3']\n",
      "['부산광역시 사상구 모라제3동(2653059300)', '9,836', '9,836', '10', '10', '13', '12', '17', '18', '35', '24', '28', '34', '30', '31', '27', '31', '33', '35', '41', '38', '45', '47', '48', '62', '82', '68', '68', '59', '68', '66', '79', '68', '80', '73', '68', '61', '62', '44', '61', '59', '51', '77', '95', '93', '91', '106', '110', '99', '92', '116', '127', '143', '140', '126', '185', '165', '205', '193', '175', '223', '179', '208', '264', '250', '266', '268', '249', '229', '249', '268', '231', '187', '244', '187', '189', '202', '208', '203', '144', '114', '121', '127', '136', '122', '112', '97', '79', '94', '60', '58', '30', '30', '32', '6', '12', '11', '6', '5', '5', '3', '0', '2', '2']\n",
      "['부산광역시 사상구 덕포제1동(2653060000)', '8,449', '8,449', '28', '26', '26', '27', '40', '61', '38', '75', '52', '51', '73', '53', '49', '56', '60', '59', '51', '62', '61', '76', '75', '92', '89', '87', '81', '96', '101', '103', '88', '109', '97', '78', '92', '77', '80', '82', '86', '100', '93', '94', '119', '122', '123', '112', '103', '102', '87', '126', '136', '121', '142', '134', '147', '154', '178', '169', '172', '180', '185', '168', '180', '230', '201', '173', '175', '131', '142', '155', '126', '111', '118', '94', '99', '96', '99', '91', '62', '70', '73', '58', '61', '52', '43', '41', '37', '31', '23', '16', '15', '15', '7', '5', '2', '4', '3', '1', '2', '0', '1', '2', '0']\n",
      "['부산광역시 사상구 덕포제2동(2653061000)', '12,625', '12,625', '38', '37', '40', '57', '51', '66', '78', '88', '68', '91', '91', '95', '99', '74', '81', '96', '78', '83', '99', '83', '121', '132', '120', '129', '142', '145', '179', '149', '188', '178', '145', '174', '136', '133', '119', '138', '112', '111', '125', '123', '172', '178', '185', '172', '144', '164', '140', '165', '170', '188', '197', '191', '211', '255', '231', '234', '261', '270', '252', '254', '307', '360', '325', '282', '247', '269', '257', '245', '215', '165', '189', '167', '156', '149', '132', '96', '91', '71', '78', '75', '78', '45', '43', '47', '45', '30', '26', '28', '13', '13', '19', '10', '5', '9', '1', '6', '1', '3', '0', '0', '1']\n",
      "['부산광역시 사상구 괘법동(2653062000)', '22,971', '22,971', '71', '87', '78', '79', '112', '111', '115', '101', '102', '88', '102', '102', '87', '80', '87', '90', '91', '85', '116', '135', '200', '278', '411', '386', '445', '544', '538', '539', '634', '559', '526', '450', '429', '363', '287', '324', '290', '305', '249', '298', '309', '315', '295', '278', '250', '235', '225', '245', '267', '296', '300', '336', '358', '393', '430', '388', '448', '417', '425', '408', '465', '538', '507', '446', '437', '393', '363', '349', '326', '262', '247', '215', '214', '202', '173', '203', '133', '99', '112', '117', '119', '87', '60', '56', '41', '47', '36', '31', '22', '16', '21', '11', '9', '5', '6', '3', '1', '2', '2', '0', '3']\n",
      "['부산광역시 사상구 감전동(2653064500)', '12,894', '12,894', '29', '38', '36', '29', '44', '41', '55', '54', '54', '47', '68', '54', '56', '53', '69', '40', '55', '68', '70', '85', '94', '104', '111', '116', '145', '150', '153', '165', '191', '181', '158', '184', '173', '158', '142', '136', '131', '121', '123', '133', '154', '169', '185', '164', '135', '130', '143', '168', '159', '191', '172', '228', '238', '226', '258', '263', '247', '292', '277', '295', '323', '357', '355', '310', '248', '310', '263', '277', '223', '195', '222', '180', '194', '139', '157', '131', '110', '108', '85', '120', '122', '94', '59', '61', '40', '48', '43', '29', '19', '11', '13', '9', '5', '10', '2', '2', '3', '2', '1', '2', '4']\n",
      "['부산광역시 사상구 주례제1동(2653065000)', '15,526', '15,526', '83', '79', '84', '109', '104', '83', '106', '108', '92', '96', '123', '106', '103', '99', '102', '117', '105', '102', '123', '129', '121', '157', '179', '169', '199', '204', '194', '230', '219', '234', '224', '208', '186', '195', '174', '188', '177', '181', '175', '171', '202', '217', '216', '202', '166', '208', '183', '182', '203', '206', '246', '241', '285', '315', '343', '317', '302', '309', '292', '327', '361', '370', '366', '335', '284', '298', '270', '251', '230', '202', '206', '148', '133', '150', '137', '132', '94', '99', '93', '74', '89', '77', '54', '48', '33', '45', '29', '27', '23', '25', '9', '6', '10', '5', '4', '4', '1', '2', '0', '1', '1']\n",
      "['부산광역시 사상구 주례제2동(2653066000)', '22,316', '22,316', '87', '89', '81', '88', '105', '141', '132', '134', '151', '169', '174', '175', '191', '165', '148', '172', '176', '139', '198', '259', '272', '312', '478', '474', '427', '406', '355', '390', '393', '364', '376', '355', '305', '288', '240', '259', '239', '239', '244', '300', '326', '292', '342', '320', '312', '292', '288', '307', '305', '330', '354', '338', '360', '371', '369', '324', '360', '344', '345', '399', '388', '470', '426', '361', '362', '363', '306', '318', '280', '239', '218', '220', '183', '203', '208', '171', '121', '127', '115', '122', '129', '121', '96', '85', '71', '55', '36', '30', '33', '25', '18', '8', '14', '6', '7', '4', '3', '3', '1', '0', '2']\n",
      "['부산광역시 사상구 주례제3동(2653066100)', '12,768', '12,768', '35', '34', '48', '36', '70', '58', '75', '82', '80', '74', '102', '89', '89', '93', '92', '95', '102', '97', '125', '119', '131', '117', '158', '174', '171', '160', '187', '182', '161', '202', '167', '148', '135', '141', '138', '125', '115', '126', '121', '144', '168', '165', '176', '165', '142', '163', '149', '163', '202', '207', '189', '203', '247', '235', '244', '219', '235', '234', '226', '240', '240', '290', '307', '298', '278', '228', '211', '241', '218', '159', '177', '142', '145', '141', '109', '129', '84', '89', '85', '79', '75', '76', '57', '64', '49', '43', '33', '27', '43', '28', '25', '4', '5', '9', '7', '1', '1', '0', '1', '0', '0']\n",
      "['부산광역시 사상구 학장동(2653067000)', '27,565', '27,565', '90', '103', '121', '118', '149', '162', '166', '195', '172', '214', '242', '217', '201', '190', '207', '231', '196', '201', '222', '242', '219', '301', '298', '316', '294', '308', '287', '328', '300', '327', '331', '276', '293', '258', '268', '265', '251', '302', '297', '377', '419', '468', '430', '389', '367', '345', '420', '414', '426', '439', '476', '497', '487', '546', '540', '515', '494', '510', '516', '498', '574', '607', '671', '613', '580', '568', '499', '505', '432', '362', '363', '298', '293', '300', '282', '252', '191', '157', '158', '165', '164', '124', '131', '94', '89', '81', '71', '50', '36', '23', '29', '20', '15', '9', '9', '10', '5', '1', '0', '0', '3']\n",
      "['부산광역시 사상구 엄궁동(2653068000)', '25,536', '25,536', '105', '107', '129', '139', '168', '187', '221', '261', '240', '256', '284', '268', '235', '250', '261', '250', '219', '210', '260', '252', '222', '278', '327', '305', '315', '309', '304', '298', '314', '309', '328', '317', '255', '264', '244', '269', '302', '271', '275', '329', '377', '423', '409', '424', '388', '375', '352', '425', '437', '455', '451', '477', '528', '499', '532', '533', '499', '475', '488', '472', '501', '556', '535', '480', '450', '383', '336', '363', '282', '261', '257', '218', '195', '169', '190', '171', '120', '80', '119', '121', '100', '89', '77', '60', '50', '38', '41', '36', '30', '24', '9', '10', '9', '7', '4', '3', '2', '3', '0', '0', '1']\n"
     ]
    }
   ],
   "source": [
    "import csv\n",
    "f = open('./data/age.csv')\n",
    "data = csv.reader(f)\n",
    "\n",
    "for row in data :\n",
    "    if '사상구' in row[0] :\n",
    "        print(row)\n"
   ]
  },
  {
   "cell_type": "code",
   "execution_count": 31,
   "metadata": {},
   "outputs": [
    {
     "name": "stdout",
     "output_type": "stream",
     "text": [
      "237\n",
      "255\n",
      "218\n",
      "267\n",
      "290\n",
      "339\n",
      "360\n",
      "403\n",
      "383\n",
      "392\n",
      "465\n",
      "447\n",
      "443\n",
      "413\n",
      "468\n",
      "473\n",
      "475\n",
      "432\n",
      "515\n",
      "477\n",
      "518\n",
      "536\n",
      "591\n",
      "554\n",
      "588\n",
      "607\n",
      "636\n",
      "667\n",
      "678\n",
      "702\n",
      "768\n",
      "796\n",
      "743\n",
      "728\n",
      "670\n",
      "683\n",
      "667\n",
      "562\n",
      "636\n",
      "689\n",
      "632\n",
      "729\n",
      "779\n",
      "676\n",
      "669\n",
      "679\n",
      "696\n",
      "742\n",
      "840\n",
      "892\n",
      "902\n",
      "934\n",
      "986\n",
      "936\n",
      "920\n",
      "902\n",
      "849\n",
      "911\n",
      "851\n",
      "886\n",
      "974\n",
      "956\n",
      "965\n",
      "753\n",
      "653\n",
      "574\n",
      "467\n",
      "441\n",
      "346\n",
      "295\n",
      "295\n",
      "254\n",
      "175\n",
      "214\n",
      "201\n",
      "165\n",
      "124\n",
      "95\n",
      "113\n",
      "94\n",
      "127\n",
      "120\n",
      "88\n",
      "106\n",
      "77\n",
      "50\n",
      "65\n",
      "59\n",
      "43\n",
      "36\n",
      "36\n",
      "19\n",
      "24\n",
      "16\n",
      "12\n",
      "3\n",
      "7\n",
      "2\n",
      "5\n",
      "1\n",
      "0\n"
     ]
    }
   ],
   "source": [
    "import csv\n",
    "f = open('./data/age.csv')\n",
    "data = csv.reader(f)\n",
    "\n",
    "for row in data :\n",
    "    if '사파동' in row[0]:\n",
    "        for i in row[3:]:\n",
    "            print(i)\n"
   ]
  },
  {
   "cell_type": "code",
   "execution_count": 33,
   "metadata": {},
   "outputs": [
    {
     "name": "stdout",
     "output_type": "stream",
     "text": [
      "[237, 255, 218, 267, 290, 339, 360, 403, 383, 392, 465, 447, 443, 413, 468, 473, 475, 432, 515, 477, 518, 536, 591, 554, 588, 607, 636, 667, 678, 702, 768, 796, 743, 728, 670, 683, 667, 562, 636, 689, 632, 729, 779, 676, 669, 679, 696, 742, 840, 892, 902, 934, 986, 936, 920, 902, 849, 911, 851, 886, 974, 956, 965, 753, 653, 574, 467, 441, 346, 295, 295, 254, 175, 214, 201, 165, 124, 95, 113, 94, 127, 120, 88, 106, 77, 50, 65, 59, 43, 36, 36, 19, 24, 16, 12, 3, 7, 2, 5, 1, 0]\n"
     ]
    }
   ],
   "source": [
    "import csv\n",
    "f = open('./data/age.csv')\n",
    "data = csv.reader(f)\n",
    "result = []\n",
    "for row in data :\n",
    "    if '사파동' in row[0]:\n",
    "        for i in row[3:]:\n",
    "            result.append(int(i))\n",
    "print(result)"
   ]
  },
  {
   "cell_type": "code",
   "execution_count": 35,
   "metadata": {},
   "outputs": [
    {
     "data": {
      "image/png": "[encoded data removed]",
      "text/plain": [
       "<Figure size 640x480 with 1 Axes>"
      ]
     },
     "metadata": {},
     "output_type": "display_data"
    }
   ],
   "source": [
    "import matplotlib.pyplot as plt\n",
    "plt.style.use('ggplot')\n",
    "plt.plot(result)\n",
    "plt.show()"
   ]
  },
  {
   "cell_type": "code",
   "execution_count": null,
   "metadata": {},
   "outputs": [],
   "source": []
  }
 ],
 "metadata": {
  "kernelspec": {
   "display_name": "Python 3.9.13 64-bit",
   "language": "python",
   "name": "python3"
  },
  "language_info": {
   "codemirror_mode": {
    "name": "ipython",
    "version": 3
   },
   "file_extension": ".py",
   "mimetype": "text/x-python",
   "name": "python",
   "nbconvert_exporter": "python",
   "pygments_lexer": "ipython3",
   "version": "3.9.13"
  },
  "orig_nbformat": 4,
  "vscode": {
   "interpreter": {
    "hash": "81794d4967e6c3204c66dcd87b604927b115b27c00565d3d43f05ba2f3a2cb0d"
   }
  }
 },
 "nbformat": 4,
 "nbformat_minor": 2
}
