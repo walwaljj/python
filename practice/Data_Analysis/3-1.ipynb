{
 "cells": [
  {
   "cell_type": "code",
   "execution_count": 1,
   "metadata": {},
   "outputs": [],
   "source": [
    "import csv"
   ]
  },
  {
   "cell_type": "code",
   "execution_count": 5,
   "metadata": {},
   "outputs": [
    {
     "name": "stdout",
     "output_type": "stream",
     "text": [
      "가장 기온이 높았던날 : 로 , 기온 : 39.6\n"
     ]
    }
   ],
   "source": [
    "f = open(\"./data/ta_20221201235104.csv\",'r')\n",
    "data = csv.reader(f)\n",
    "header = next(data)\n",
    "max_temp = -999\n",
    "max_date = ''\n",
    "for row in data :\n",
    "    if row[-1] == '' :\n",
    "        row[-1] = -999\n",
    "    row[-1] = float(row[-1])\n",
    "    if max_temp < row[-1] :\n",
    "        max_date = row[0]\n",
    "        max_temp = row[-1]\n",
    "f.close()\n",
    "print(f\"가장 기온이 높았던날 : {max_date}로 , 기온 : {max_temp}\")"
   ]
  }
 ],
 "metadata": {
  "kernelspec": {
   "display_name": "Python 3.9.13 64-bit",
   "language": "python",
   "name": "python3"
  },
  "language_info": {
   "codemirror_mode": {
    "name": "ipython",
    "version": 3
   },
   "file_extension": ".py",
   "mimetype": "text/x-python",
   "name": "python",
   "nbconvert_exporter": "python",
   "pygments_lexer": "ipython3",
   "version": "3.9.13"
  },
  "orig_nbformat": 4,
  "vscode": {
   "interpreter": {
    "hash": "81794d4967e6c3204c66dcd87b604927b115b27c00565d3d43f05ba2f3a2cb0d"
   }
  }
 },
 "nbformat": 4,
 "nbformat_minor": 2
}
